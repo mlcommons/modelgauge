{
 "cells": [
  {
   "cell_type": "code",
   "execution_count": null,
   "metadata": {},
   "outputs": [],
   "source": [
    "# Try importing a test\n",
    "from modelgauge.tests.demo_01_simple_qa_test import DemoSimpleQATest\n",
    "\n",
    "demo_test_import = DemoSimpleQATest(\"demo_01_duplicate\")\n",
    "\n",
    "# Try accessing a test from the instance registry\n",
    "from tests.fake_secrets import fake_all_secrets\n",
    "from modelgauge.test_registry import TESTS\n",
    "\n",
    "secrets = fake_all_secrets()\n",
    "demo_test_instance_factory = TESTS.make_instance(\"demo_01\", secrets=secrets)\n",
    "\n",
    "assert demo_test_instance_factory.get_dependencies() == demo_test_import.get_dependencies()"
   ]
  },
  {
   "cell_type": "code",
   "execution_count": null,
   "metadata": {},
   "outputs": [],
   "source": [
    "from modelgauge.load_plugins import load_plugins\n",
    "# CLI functions\n",
    "from modelgauge.main import run_test, run_sut\n",
    "from modelgauge.simple_test_runner import run_prompt_response_test\n",
    "from modelgauge.sut_registry import SUTS\n",
    "import os\n",
    "import tempfile\n",
    "\n",
    "load_plugins()\n",
    "run_sut([\"--sut\", \"demo_yes_no\", \"--prompt\", \"My test prompt\"], standalone_mode=False)\n",
    "with tempfile.TemporaryDirectory() as tmpdirname:\n",
    "    tmp_output = os.path.join(tmpdirname, \"record.json\")\n",
    "    run_test([\"--test\", \"demo_01\", \"--sut\", \"demo_yes_no\", \"--data-dir\", tmpdirname, \"--output-file\", tmp_output], standalone_mode=False)\n",
    "\n",
    "    # Try using runner directly\n",
    "    sut = SUTS.make_instance(\"demo_yes_no\", secrets=secrets)\n",
    "    record = run_prompt_response_test(demo_test_import, sut, tmpdirname, )"
   ]
  }
 ],
 "metadata": {
  "language_info": {
   "name": "python",
   "version": "3.10.10"
  }
 },
 "nbformat": 4,
 "nbformat_minor": 2
}
