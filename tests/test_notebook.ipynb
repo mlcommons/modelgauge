{
 "cells": [
  {
   "cell_type": "code",
   "execution_count": null,
   "metadata": {},
   "outputs": [],
   "source": [
    "# Try importing a test\n",
    "from newhelm.tests.demo_01_simple_qa_test import DemoSimpleQATest\n",
    "\n",
    "demo_test_import = DemoSimpleQATest(\"demo_01_duplicate\")\n",
    "\n",
    "# Try accessing a test from the instance registry\n",
    "from newhelm.config import load_secrets_from_config\n",
    "from newhelm.test_registry import TESTS\n",
    "\n",
    "secrets = load_secrets_from_config(path=\"../config/secrets.toml\")\n",
    "demo_test_instance_factory = TESTS.make_instance(\"demo_01\", secrets=secrets)\n",
    "\n",
    "assert demo_test_instance_factory.get_dependencies() == demo_test_import.get_dependencies()"
   ]
  },
  {
   "cell_type": "code",
   "execution_count": null,
   "metadata": {},
   "outputs": [],
   "source": [
    "# CLI functions\n",
    "import os\n",
    "from newhelm.main import run_test, run_sut, load_plugins\n",
    "\n",
    "os.chdir(\"../\")\n",
    "load_plugins()\n",
    "run_test([\"--test\", \"demo_01\", \"--sut\", \"demo_yes_no\"], standalone_mode=False)\n",
    "\n",
    "# Try using secrets\n",
    "run_sut([\"--sut\", \"demo_random_words\", \"--prompt\", \"My test prompt\"], standalone_mode=False)"
   ]
  },
  {
   "cell_type": "code",
   "execution_count": null,
   "metadata": {},
   "outputs": [],
   "source": [
    "# Try using runner directly\n",
    "from newhelm.simple_test_runner import run_prompt_response_test\n",
    "from newhelm.sut_registry import SUTS\n",
    "\n",
    "sut = SUTS.make_instance(\"demo_yes_no\", secrets=secrets)\n",
    "record = run_prompt_response_test(demo_test_import, sut, \"run_data\")"
   ]
  }
 ],
 "metadata": {
  "kernelspec": {
   "display_name": "newhelm-nd3RUHmc-py3.10",
   "language": "python",
   "name": "python3"
  },
  "language_info": {
   "name": "python",
   "version": "3.10.10"
  }
 },
 "nbformat": 4,
 "nbformat_minor": 2
}
